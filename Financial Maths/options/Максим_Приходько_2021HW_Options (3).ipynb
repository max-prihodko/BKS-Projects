{
  "nbformat": 4,
  "nbformat_minor": 0,
  "metadata": {
    "hide_input": false,
    "kernelspec": {
      "display_name": "Python 3",
      "language": "python",
      "name": "python3"
    },
    "language_info": {
      "codemirror_mode": {
        "name": "ipython",
        "version": 3
      },
      "file_extension": ".py",
      "mimetype": "text/x-python",
      "name": "python",
      "nbconvert_exporter": "python",
      "pygments_lexer": "ipython3",
      "version": "3.6.3"
    },
    "toc": {
      "nav_menu": {},
      "number_sections": true,
      "sideBar": true,
      "skip_h1_title": false,
      "title_cell": "Table of Contents",
      "title_sidebar": "Contents",
      "toc_cell": false,
      "toc_position": {
        "height": "calc(100% - 180px)",
        "left": "10px",
        "top": "150px",
        "width": "213px"
      },
      "toc_section_display": true,
      "toc_window_display": true
    },
    "colab": {
      "name": "Максим Приходько - 2021HW-Options.ipynb",
      "provenance": [],
      "collapsed_sections": []
    }
  },
  "cells": [
    {
      "cell_type": "markdown",
      "metadata": {
        "id": "Q69yZPvhLkAF"
      },
      "source": [
        "Веса задач в суммарной оценке за работу: $\\frac{1}{3}$, $\\frac{1}{3}$, $\\frac{1}{3}$"
      ]
    },
    {
      "cell_type": "markdown",
      "metadata": {
        "id": "xLkhz-CILkAS"
      },
      "source": [
        "# Задача 1"
      ]
    },
    {
      "cell_type": "markdown",
      "metadata": {
        "id": "2nqsw0khLkAT"
      },
      "source": [
        "Напишите код, который используя метод Монте-Карло расчитывал бы цену опциона EKI/KO.\n",
        "\n",
        "EKI/KO опцион это Европейский опцион, для которого добавлено два барьера. Непрерывный барьер - действует точно так же как в KO опционе. EKI барьер действует только в момент экспирации опциона : для call опциона выплота происходит только если курс актива на момент экспирации больше уровня EKI, для опциона put выплата происходит только если курс ниже уровня EKI на момент экприрации.\n",
        "\n",
        "Сделайте расчет для опциона call с параметрами указанными ниже"
      ]
    },
    {
      "cell_type": "code",
      "metadata": {
        "id": "sL90fQCWL9zv"
      },
      "source": [
        "from __future__ import print_function\n",
        "\n",
        "import numpy as np\n",
        "import pandas as pd\n",
        "import matplotlib.pyplot as plt\n",
        "import matplotlib.mlab as mlab\n",
        "%matplotlib inline\n",
        "\n",
        "import math as m\n",
        "from time import time\n",
        "from scipy import stats"
      ],
      "execution_count": null,
      "outputs": []
    },
    {
      "cell_type": "code",
      "metadata": {
        "id": "CveGXYgr9bJR"
      },
      "source": [
        "S0 = 80.; K = 85.; T = 1.0; r = 0.05; q = 0.0; sigma = 0.2\n",
        "B = 110 # continues barrier level\n",
        "EKI = 90 # EKI level\n",
        "M = 360 # number of steps in time\n",
        "I = 50000 # number of paths to generate"
      ],
      "execution_count": null,
      "outputs": []
    },
    {
      "cell_type": "code",
      "metadata": {
        "colab": {
          "base_uri": "https://localhost:8080/"
        },
        "id": "qpzSFk34jFk6",
        "outputId": "7f3ba3e0-09a1-4e28-9fde-2afa2ae1097d"
      },
      "source": [
        "def standard_normal(I):\n",
        "    z = np.random.standard_normal(I)\n",
        "    mean = np.mean(z)\n",
        "    std = np.std(z)\n",
        "    return (z - mean)/std    \n",
        "\n",
        "def mc_call_eki_ko(S0, K, T, r, sigma, M, I, EKI, B):\n",
        "    # Simulating I paths with M time steps\n",
        "    S = np.zeros((M + 1, I))\n",
        "    S[0] = S0\n",
        "    dt = float(T) / M\n",
        "    for t in range(1, M + 1):\n",
        "        z = standard_normal(I)\n",
        "        Buf = S[t - 1] * np.exp((r - 0.5 * sigma ** 2) * dt + sigma * m.sqrt(dt) * z)\n",
        "        Buf[Buf >= B] = 0\n",
        "        S[t] = Buf\n",
        "\n",
        "    S[S <= EKI] = 0     \n",
        "    # PV is extected discounted payoff\n",
        "    C = np.sum(m.exp(-r * T) * np.maximum(S[-1] - K, 0)) / I\n",
        "    return C, S\n",
        "\n",
        "    \n",
        "np.random.seed(12345)\n",
        "t0 = time()\n",
        "C, SPaths = mc_call_eki_ko(S0, K, T, r, sigma, M, I, EKI, B)\n",
        "calcTime = time() - t0\n",
        "\n",
        "print( \"PV: %.5ff\" % C )"
      ],
      "execution_count": null,
      "outputs": [
        {
          "output_type": "stream",
          "text": [
            "PV: 2.27471f\n"
          ],
          "name": "stdout"
        }
      ]
    },
    {
      "cell_type": "markdown",
      "metadata": {
        "id": "LsoQ4mfJDTBf"
      },
      "source": [
        "##№1  Ответ :    2.27471"
      ]
    },
    {
      "cell_type": "markdown",
      "metadata": {
        "id": "mlzRpvoxLkAV"
      },
      "source": [
        "**дополнительное замечание** (Решение будет полностью защитано и если задача без учета замечания полностью решена.)\n",
        "\n",
        "Код в задачах из лекции использует $O( M \\cdot I )$ памяти. Попробуйте сделать код, который использует $O( I )$ памяти."
      ]
    },
    {
      "cell_type": "markdown",
      "metadata": {
        "id": "CtGFdxZjLkAW"
      },
      "source": [
        "# Задача 2"
      ]
    },
    {
      "cell_type": "markdown",
      "metadata": {
        "id": "mI8lzttKLkAW"
      },
      "source": [
        "Рассмотрим такую стратегию динамического хеджирования: в начальный момент времени мы покупаем базовый актив, в колличестве равном дельте call опциона. \n",
        "Далее мы перебалансируем наш портфель с каким-то шагом по времени. На каждом шаге мы покупаем или продаем базовый актив из такого расчета, что бы у нас на балансе опять был базовый актив, в колличестве равном дельте call опциона, с учетом изменившегося курса актива.\n",
        "\n",
        "Используя симмуляции возможных реализаций процесса цены актива как в методе Монте-Карло сделайте код, который нарисует график для суммарной стоимости владания такой стратегией для некоторого кол-ва симмуляций.\n",
        "\n",
        "График должен представлят из себя диаграмму рассеяния (scatter plot) в координатах $x = S_T$, $y = Total Profit_T$\n",
        "\n",
        "\n",
        "Параметры для расчета:"
      ]
    },
    {
      "cell_type": "code",
      "metadata": {
        "ExecuteTime": {
          "end_time": "2019-11-04T10:41:28.558142Z",
          "start_time": "2019-11-04T10:41:28.549708Z"
        },
        "id": "9z6GDh9CLkAX"
      },
      "source": [
        "S0 = 80.; K = 85.; T = 1.0; r = 0.05; q = 0.0; sigma = 0.2\n",
        "M = 360 # number of steps in time\n",
        "I = 1000 # number of paths to generate"
      ],
      "execution_count": null,
      "outputs": []
    },
    {
      "cell_type": "code",
      "metadata": {
        "id": "a4pmFm2lMFG_"
      },
      "source": [
        "def N(x):\n",
        "    return stats.norm.cdf(x, 0.0, 1.0)\n",
        "\n",
        "def NPrime(x):\n",
        "    return stats.norm.pdf(x, 0.0, 1.0)\n",
        "\n",
        "def bsm_d1(S, K, T, r, q, sigma):\n",
        "    return (np.log(S / K) + (r - q + 0.5 * sigma ** 2) * T) / (sigma * m.sqrt(T))\n",
        "\n",
        "def bsm_d2(S, K, T, r, q, sigma):\n",
        "    return (np.log(S / K) + (r - q - 0.5 * sigma ** 2) * T) / (sigma * m.sqrt(T))\n",
        "\n",
        "def bsm_pv(isCall, S, K, T, r, q, sigma):\n",
        "    d1 = bsm_d1(S, K, T, r, q, sigma)\n",
        "    d2 = bsm_d2(S, K, T, r, q, sigma)\n",
        "    if isCall:\n",
        "        return S * N(d1) * m.exp(-q * T) - K * m.exp(-r * T) * N(d2)\n",
        "    else:\n",
        "        return K * N(-d2) * m.exp(-r * T)  - S * m.exp(-q * T) * N(-d1)\n",
        "\n",
        "def bsm_delta(isCall, S, K, T, r, q, sigma):\n",
        "    d1 = bsm_d1(S, K, T, r, q, sigma)\n",
        "    if isCall:\n",
        "        return N(d1) * m.exp(-q * T)\n",
        "    else:\n",
        "        return -N(-d1) * m.exp(-q * T)"
      ],
      "execution_count": null,
      "outputs": []
    },
    {
      "cell_type": "code",
      "metadata": {
        "ExecuteTime": {
          "end_time": "2020-04-12T13:43:00.756499Z",
          "start_time": "2020-04-12T13:43:00.517429Z"
        },
        "id": "w1c3n6NeLkAX"
      },
      "source": [
        "# Значение spot на текущем шаге симуляции \n",
        "S = np.full(I, S0)\n",
        "# Значение payoff на текущем шаге симуляции \n",
        "P = np.zeros(I)\n",
        "\n",
        "# TODO: set initial portfolio\n",
        "delta = np.array([bsm_delta(True,S[i], K, T, r, q, sigma) for i in range (I)])\n",
        "\n",
        "#PV =  bsm_pv(True, S0, K, T, r, q, sigma)\n",
        "P =  - delta * S\n",
        "#delta_past = 0 # это не правильно\n",
        "delta_past = delta\n",
        "\n",
        "\n",
        "dt = float(T) / M\n",
        "for i in range(1, M + 1):\n",
        "    z = standard_normal(I)\n",
        "\n",
        "    S = S * np.exp((r - 0.5 * sigma ** 2) * dt + sigma * m.sqrt(dt) * z)\n",
        "    # это не правильно, нужно считать дельту на каждое значение S.\n",
        "    # S[i] -- это неправильный выбор\n",
        "    #delta = bsm_delta(True, S[i], K, T - (i -1) * dt, r, q, sigma)\n",
        "    #d_delta =  delta - delta_past\n",
        "    #delta_past = delta\n",
        "\n",
        "    P *= np.exp(r * dt)\n",
        "    if i < M:\n",
        "        # TODO: rebalance portfolio for the current step\n",
        "        delta = bsm_delta(True, S, K, T - i * dt, r, q, sigma)\n",
        "        d_delta =  delta - delta_past\n",
        "        P -= d_delta * S \n",
        "        delta_past = delta\n",
        "        \n",
        "# TODO : close the position\n",
        "# нужно продать актив, считать выплату по опциону не нужно\n",
        "#PV_last = np.array([bsm_pv(True, S[i], K, 0, r, q, sigma) for i in range (I)])\n",
        "#P = PV_last - delta * S\n",
        "P += delta * S"
      ],
      "execution_count": null,
      "outputs": []
    },
    {
      "cell_type": "markdown",
      "metadata": {
        "id": "o9YaEKL-SEi1"
      },
      "source": [
        "- Нужно стремиться к графику как в лекции при delta-hedging"
      ]
    },
    {
      "cell_type": "code",
      "metadata": {
        "ExecuteTime": {
          "end_time": "2019-11-04T10:41:30.587193Z",
          "start_time": "2019-11-04T10:41:28.571Z"
        },
        "id": "4Q5-SyapLkAY",
        "colab": {
          "base_uri": "https://localhost:8080/",
          "height": 535
        },
        "outputId": "c8809209-3d33-49cb-8619-a99979af5331"
      },
      "source": [
        "import matplotlib.pyplot as plt\n",
        "import matplotlib\n",
        "%matplotlib inline\n",
        "\n",
        "lw = 2.5 # line width\n",
        "fs = 12  # fontsize\n",
        "picWidth=12; picHeight=8;\n",
        "\n",
        "matplotlib.rcParams.update({'font.size': 22})\n",
        "plt.figure(figsize=(picWidth, picHeight))\n",
        "\n",
        "plt.plot(S, P, 'bo', linewidth=lw)\n",
        "plt.grid(True)\n",
        "plt.xlabel('Spot at expiry')\n",
        "plt.ylabel('Total payoff')"
      ],
      "execution_count": null,
      "outputs": [
        {
          "output_type": "execute_result",
          "data": {
            "text/plain": [
              "Text(0, 0.5, 'Total payoff')"
            ]
          },
          "metadata": {
            "tags": []
          },
          "execution_count": 9
        },
        {
          "output_type": "display_data",
          "data": {
            "image/png": "[encoded data removed]",
            "text/plain": [
              "<Figure size 864x576 with 1 Axes>"
            ]
          },
          "metadata": {
            "tags": [],
            "needs_background": "light"
          }
        }
      ]
    },
    {
      "cell_type": "markdown",
      "metadata": {
        "id": "3bTQEkrNgIkE"
      },
      "source": [
        "* Не совсем как в лекции. Но и из всех промежуточных вариантов больше всего похоже на правду."
      ]
    },
    {
      "cell_type": "markdown",
      "metadata": {
        "id": "lxg2pJ6NLkAZ"
      },
      "source": [
        "# Задача 3 \n",
        "\n",
        "Написать функцию для вычисления цены Европейского и Американского опционов в модели CRR (см. обсуждение идеи в лекции)."
      ]
    },
    {
      "cell_type": "code",
      "metadata": {
        "ExecuteTime": {
          "end_time": "2021-04-12T08:42:04.675872Z",
          "start_time": "2021-04-12T08:42:04.588112Z"
        },
        "id": "S7aHAzGnLkAZ"
      },
      "source": [
        "import numpy as np\n",
        "\n",
        "def gen_lattice(S0, u, d, N, dt):\n",
        "    \"\"\"generates a binomial lattice\n",
        "    \n",
        "    for a given up, down, start value and number of steps (N).\n",
        "    Resulting lattice has N+1 levels.\n",
        "    \"\"\"\n",
        "    t = [0.]\n",
        "    S = [float(S0)]\n",
        "\n",
        "    for i in range(1, N+1):\n",
        "        for j in range(0, i+1):\n",
        "            t.append(dt*i)\n",
        "            S.append( S0 * d**j * u**(i-j) )\n",
        "\n",
        "    return np.array(t), np.array(S)\n",
        "\n",
        "\n",
        "def model_params(r, T, sigma, N):\n",
        "    dt = T / N\n",
        "    df = np.exp(r * dt)\n",
        "\n",
        "    u = np.exp(sigma * np.sqrt(dt))\n",
        "    d = 1 / u\n",
        "    q = ( np.exp(r * dt) - d ) / (u - d)\n",
        "    \n",
        "    return dt, df, u, d, q\n",
        "\n",
        "from enum import Enum\n",
        "class CallPut(Enum):\n",
        "    call = 1\n",
        "    put = 2\n",
        "\n",
        "class ExerciseStyle(Enum):\n",
        "    euro = 1\n",
        "    amer = 2"
      ],
      "execution_count": null,
      "outputs": []
    },
    {
      "cell_type": "code",
      "metadata": {
        "id": "7SKNYlSQQxCV"
      },
      "source": [
        "def pv_crr(amerEuro, callPut, S0, K, T, r, sigma, N):\n",
        "    dt, df, u, d, q = model_params(r, T, sigma, N)\n",
        "    print(f\"df: {df}, u:{u}, d:{d}, q:{q}\" )\n",
        "    _, S = gen_lattice(S0=S0, N=N, u=u, d=d, dt=dt)\n",
        "\n",
        "    L = N+1\n",
        "\n",
        "    payoff = lambda x: max( 0, x - K ) if CallPut.call == callPut else max( 0, K - x)\n",
        "\n",
        "    # Calculate payoff at the last lattice level\n",
        "    k = len(S)\n",
        "    for i in range(L):\n",
        "        k -= 1\n",
        "        S[k] = payoff(S[k])\n",
        "\n",
        "    # Go backwards, calculate extected value for prev node, based on known nodes\n",
        "    # Calculate payoff at node k, based on expected value of S\n",
        "    for i in range(N-1, -1, -1):\n",
        "      for j in range(i, -1, -1):\n",
        "          k -= 1\n",
        "          if (ExerciseStyle.euro == amerEuro):\n",
        "              S[k] = (S[k + i + 1] * q + S[k + i + 2] * (1 - q)) * df\n",
        "          else:\n",
        "              S[k] = max(payoff(S[k]), S[k + i + 1] * q + S[k + i + 2] * (1 - q)) * df\n",
        "          \n",
        "    return S[0], S"
      ],
      "execution_count": null,
      "outputs": []
    },
    {
      "cell_type": "code",
      "metadata": {
        "ExecuteTime": {
          "end_time": "2021-04-12T08:42:10.500304Z",
          "start_time": "2021-04-12T08:42:05.213437Z"
        },
        "id": "sl4MY1-pLkAa",
        "colab": {
          "base_uri": "https://localhost:8080/"
        },
        "outputId": "4389d98e-0503-4dc9-f25e-628e0dad6994"
      },
      "source": [
        "# parameters\n",
        "S0 = 100.\n",
        "T = 1.\n",
        "r = 0.05\n",
        "sigma = 0.20\n",
        "K = 100.\n",
        "N = 1000\n",
        "\n",
        "es = ExerciseStyle.euro\n",
        "\n",
        "print(\"Europian Call/Put\")\n",
        "print(\"-----------------\")\n",
        "pvC, _ = pv_crr(es, CallPut.call, S0=S0, K=K, T=T, r=r, sigma=sigma, N=N)\n",
        "print( \"PV_Call = \", pvC , \"\\n\")\n",
        "pvP, _ = pv_crr(es, CallPut.put, S0=S0, K=K, T=T, r=r, sigma=sigma, N=N)\n",
        "print(\"PV_Put = \", pvP , \"\\n \\n\" )\n",
        "\n",
        "es = ExerciseStyle.amer\n",
        "\n",
        "print(\"American Call/Put\")\n",
        "print(\"-----------------\")\n",
        "pvC, _ = pv_crr(es, CallPut.call, S0=S0, K=K, T=T, r=r, sigma=sigma, N=N)\n",
        "print(\"PV_Call = \", pvC , \"\\n\" )\n",
        "pvP, _ = pv_crr(es, CallPut.put, S0=S0, K=K, T=T, r=r, sigma=sigma, N=N)\n",
        "print(\"PV_Put = \", pvP , \"\\n\" )"
      ],
      "execution_count": null,
      "outputs": [
        {
          "output_type": "stream",
          "text": [
            "Europian Call/Put\n",
            "-----------------\n",
            "df: 1.0000500012500209, u:1.00634459755079, d:0.9936954025825434, q:0.5023717859855448\n",
            "PV_Call =  11.547471286548904 \n",
            "\n",
            "df: 1.0000500012500209, u:1.00634459755079, d:0.9936954025825434, q:0.5023717859855448\n",
            "PV_Put =  6.157489116583631 \n",
            " \n",
            "\n",
            "American Call/Put\n",
            "-----------------\n",
            "df: 1.0000500012500209, u:1.00634459755079, d:0.9936954025825434, q:0.5023717859855448\n",
            "PV_Call =  11.547471286548904 \n",
            "\n",
            "df: 1.0000500012500209, u:1.00634459755079, d:0.9936954025825434, q:0.5023717859855448\n",
            "PV_Put =  6.451256050201327 \n",
            "\n"
          ],
          "name": "stdout"
        }
      ]
    },
    {
      "cell_type": "markdown",
      "metadata": {
        "id": "jIp0UDfTodm6"
      },
      "source": [
        "## Europian Call/Put\n",
        "\n",
        "1)PV_Call =  11.547471286548904\n",
        "\n",
        "2)PV_Put =  6.157489116583631 \n",
        "\n",
        "\n",
        "## American Call/Put\n",
        "3)PV_Call =  11.547471286548904\n",
        "\n",
        "4)PV_Put =  6.451256050201327\n"
      ]
    }
  ]
}