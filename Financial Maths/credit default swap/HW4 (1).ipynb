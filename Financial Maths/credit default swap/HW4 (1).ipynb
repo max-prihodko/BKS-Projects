{
  "nbformat": 4,
  "nbformat_minor": 0,
  "metadata": {
    "colab": {
      "name": "HW4.ipynb",
      "provenance": []
    },
    "kernelspec": {
      "name": "python3",
      "display_name": "Python 3"
    },
    "language_info": {
      "name": "python"
    }
  },
  "cells": [
    {
      "cell_type": "code",
      "metadata": {
        "id": "FghUzpjL4TCN"
      },
      "source": [
        "import numpy as np\n",
        "import matplotlib.pyplot as plt\n",
        "import scipy.interpolate\n",
        "import pandas as pd\n",
        "import math"
      ],
      "execution_count": null,
      "outputs": []
    },
    {
      "cell_type": "markdown",
      "metadata": {
        "id": "kevx_OoX9w1N"
      },
      "source": [
        "## Germany Gov. VS Spain Gov. (EUR) \n",
        "### Yield Curve\n",
        "\n",
        "Данные взяты:\n",
        "\n",
        "1)Germany:\n",
        "Excel-file с лекции\n",
        "\n",
        "2) Spain:\n",
        "http://www.worldgovernmentbonds.com/country/spain/"
      ]
    },
    {
      "cell_type": "code",
      "metadata": {
        "id": "pZi1DAlwHTey"
      },
      "source": [
        "Rec_rate = 0.4"
      ],
      "execution_count": null,
      "outputs": []
    },
    {
      "cell_type": "code",
      "metadata": {
        "id": "MgvruNy08kM1"
      },
      "source": [
        "curve_tenors_Germany = np.array([1.0, 2.0, 3.0, 4.0, 5.0, 6.0,  7.0, 8.0, 9.0, 10.0])\n",
        "curve_rates_Germany = np.array([-0.55, -0.58, -0.59, -0.54, -0.44, -0.36, -0.28, -0.24, -0.15, 0.01])*1e-2\n",
        "\n",
        "curve_tenors_Spain = np.array([1.0, 2.0, 3.0, 4.0, 5.0, 6.0,  7.0, 8.0, 9.0, 10.0])\n",
        "curve_rates_Spain = np.array([-0.521, -0.525, -0.466, -0.428, -0.334, -0.159, -0.091, 0.086, 0.205, 0.266])*1e-2"
      ],
      "execution_count": null,
      "outputs": []
    },
    {
      "cell_type": "code",
      "metadata": {
        "colab": {
          "base_uri": "https://localhost:8080/"
        },
        "id": "E9RCGyBPF84o",
        "outputId": "c57a0f75-0df7-4ad2-e7b0-6a18f9276629"
      },
      "source": [
        "Default_Propability = (1 - np.power((1 + curve_rates_Germany),curve_tenors_Germany) / np.power((1 + curve_rates_Spain), curve_tenors_Spain)) / (1 - Rec_rate)\n",
        "Default_Propability = np.concatenate([[0], Default_Propability])\n",
        "Survival_Propability = 1 - Default_Propability \n",
        "print(\"Default Propability 1-10 Y :\", Default_Propability)\n",
        "print(\"Survival Propability 1-10 Y :\", Survival_Propability)"
      ],
      "execution_count": null,
      "outputs": [
        {
          "output_type": "stream",
          "text": [
            "Default Propability 1-10 Y : [0.         0.00048586 0.0018425  0.00622127 0.00748612 0.0088441\n",
            " 0.02003096 0.02194523 0.04293743 0.05239419 0.04206787]\n",
            "Survival Propability 1-10 Y : [1.         0.99951414 0.9981575  0.99377873 0.99251388 0.9911559\n",
            " 0.97996904 0.97805477 0.95706257 0.94760581 0.95793213]\n"
          ],
          "name": "stdout"
        }
      ]
    },
    {
      "cell_type": "markdown",
      "metadata": {
        "id": "x38jjQ0Ers8L"
      },
      "source": [
        "##  Линейная интерполяция"
      ]
    },
    {
      "cell_type": "code",
      "metadata": {
        "id": "YRsrcvGHHYfC"
      },
      "source": [
        "index = np.concatenate([[0], curve_tenors_Germany])\n",
        "Def_Prob = scipy.interpolate.interp1d(index, Default_Propability, kind = 'linear')\n",
        "Survival_Prop = scipy.interpolate.interp1d(index, 1 - Default_Propability, kind = 'linear')"
      ],
      "execution_count": null,
      "outputs": []
    },
    {
      "cell_type": "code",
      "metadata": {
        "colab": {
          "base_uri": "https://localhost:8080/"
        },
        "id": "LM5H01SrHr9q",
        "outputId": "52511973-cf71-48b1-effb-c44e113420f6"
      },
      "source": [
        "sur_prop_5y = Survival_Prop(np.array([0.25, 0.5, 0.75, 1, 1.25, 1.5, 1.75, 2, 2.25, 2.5, 2.75, 3, 3.25, 3.5, 3.75, 4, 4.25, 4.5, 4.75, 5]))\n",
        "Sur_5y = Survival_Prop(np.array([5]))\n",
        "X = 4 * (1 - Rec_rate)*(1 - Sur_5y) / sur_prop_5y.sum()\n",
        "print('Величина купона X = ', X)"
      ],
      "execution_count": null,
      "outputs": [
        {
          "output_type": "stream",
          "text": [
            "Величина купона X =  [0.00106589]\n"
          ],
          "name": "stdout"
        }
      ]
    },
    {
      "cell_type": "code",
      "metadata": {
        "id": "StCFeFyExthP"
      },
      "source": [
        "coupon = np.zeros(20)\n",
        "coupon[:] = X\n",
        "\n",
        "pay  = np.zeros(20)\n",
        "pay[:] = 1 - Rec_rate"
      ],
      "execution_count": null,
      "outputs": []
    },
    {
      "cell_type": "code",
      "metadata": {
        "id": "QZlTvk47yzVB"
      },
      "source": [
        "buyer = {'Dates coupon (Years)': [0.25, 0.5, 0.75, 1, 1.25, 1.5, 1.75, 2, 2.25, 2.5, 2.75, 3, 3.25, 3.5, 3.75, 4, 4.25, 4.5, 4.75, 5],\n",
        "         'Propability (%)': sur_prop_5y*100,\n",
        "         'Coupon - X (%)': coupon*100}\n",
        "df_buyer = pd.DataFrame(buyer)"
      ],
      "execution_count": null,
      "outputs": []
    },
    {
      "cell_type": "markdown",
      "metadata": {
        "id": "9nQ_PGnrLK-V"
      },
      "source": [
        "## Таблица платежей и вероятностей для покупателя страховки (табл. 1)"
      ]
    },
    {
      "cell_type": "code",
      "metadata": {
        "colab": {
          "base_uri": "https://localhost:8080/",
          "height": 669
        },
        "id": "zXAyRsg00uEl",
        "outputId": "cd0e4f5e-dede-4a2a-a4e0-1573498acd7b"
      },
      "source": [
        "df_buyer"
      ],
      "execution_count": null,
      "outputs": [
        {
          "output_type": "execute_result",
          "data": {
            "text/html": [
              "<div>\n",
              "<style scoped>\n",
              "    .dataframe tbody tr th:only-of-type {\n",
              "        vertical-align: middle;\n",
              "    }\n",
              "\n",
              "    .dataframe tbody tr th {\n",
              "        vertical-align: top;\n",
              "    }\n",
              "\n",
              "    .dataframe thead th {\n",
              "        text-align: right;\n",
              "    }\n",
              "</style>\n",
              "<table border=\"1\" class=\"dataframe\">\n",
              "  <thead>\n",
              "    <tr style=\"text-align: right;\">\n",
              "      <th></th>\n",
              "      <th>Dates coupon (Years)</th>\n",
              "      <th>Propability (%)</th>\n",
              "      <th>Coupon - X (%)</th>\n",
              "    </tr>\n",
              "  </thead>\n",
              "  <tbody>\n",
              "    <tr>\n",
              "      <th>0</th>\n",
              "      <td>0.25</td>\n",
              "      <td>99.987853</td>\n",
              "      <td>0.106589</td>\n",
              "    </tr>\n",
              "    <tr>\n",
              "      <th>1</th>\n",
              "      <td>0.50</td>\n",
              "      <td>99.975707</td>\n",
              "      <td>0.106589</td>\n",
              "    </tr>\n",
              "    <tr>\n",
              "      <th>2</th>\n",
              "      <td>0.75</td>\n",
              "      <td>99.963560</td>\n",
              "      <td>0.106589</td>\n",
              "    </tr>\n",
              "    <tr>\n",
              "      <th>3</th>\n",
              "      <td>1.00</td>\n",
              "      <td>99.951414</td>\n",
              "      <td>0.106589</td>\n",
              "    </tr>\n",
              "    <tr>\n",
              "      <th>4</th>\n",
              "      <td>1.25</td>\n",
              "      <td>99.917498</td>\n",
              "      <td>0.106589</td>\n",
              "    </tr>\n",
              "    <tr>\n",
              "      <th>5</th>\n",
              "      <td>1.50</td>\n",
              "      <td>99.883582</td>\n",
              "      <td>0.106589</td>\n",
              "    </tr>\n",
              "    <tr>\n",
              "      <th>6</th>\n",
              "      <td>1.75</td>\n",
              "      <td>99.849666</td>\n",
              "      <td>0.106589</td>\n",
              "    </tr>\n",
              "    <tr>\n",
              "      <th>7</th>\n",
              "      <td>2.00</td>\n",
              "      <td>99.815750</td>\n",
              "      <td>0.106589</td>\n",
              "    </tr>\n",
              "    <tr>\n",
              "      <th>8</th>\n",
              "      <td>2.25</td>\n",
              "      <td>99.706281</td>\n",
              "      <td>0.106589</td>\n",
              "    </tr>\n",
              "    <tr>\n",
              "      <th>9</th>\n",
              "      <td>2.50</td>\n",
              "      <td>99.596812</td>\n",
              "      <td>0.106589</td>\n",
              "    </tr>\n",
              "    <tr>\n",
              "      <th>10</th>\n",
              "      <td>2.75</td>\n",
              "      <td>99.487342</td>\n",
              "      <td>0.106589</td>\n",
              "    </tr>\n",
              "    <tr>\n",
              "      <th>11</th>\n",
              "      <td>3.00</td>\n",
              "      <td>99.377873</td>\n",
              "      <td>0.106589</td>\n",
              "    </tr>\n",
              "    <tr>\n",
              "      <th>12</th>\n",
              "      <td>3.25</td>\n",
              "      <td>99.346252</td>\n",
              "      <td>0.106589</td>\n",
              "    </tr>\n",
              "    <tr>\n",
              "      <th>13</th>\n",
              "      <td>3.50</td>\n",
              "      <td>99.314631</td>\n",
              "      <td>0.106589</td>\n",
              "    </tr>\n",
              "    <tr>\n",
              "      <th>14</th>\n",
              "      <td>3.75</td>\n",
              "      <td>99.283009</td>\n",
              "      <td>0.106589</td>\n",
              "    </tr>\n",
              "    <tr>\n",
              "      <th>15</th>\n",
              "      <td>4.00</td>\n",
              "      <td>99.251388</td>\n",
              "      <td>0.106589</td>\n",
              "    </tr>\n",
              "    <tr>\n",
              "      <th>16</th>\n",
              "      <td>4.25</td>\n",
              "      <td>99.217439</td>\n",
              "      <td>0.106589</td>\n",
              "    </tr>\n",
              "    <tr>\n",
              "      <th>17</th>\n",
              "      <td>4.50</td>\n",
              "      <td>99.183489</td>\n",
              "      <td>0.106589</td>\n",
              "    </tr>\n",
              "    <tr>\n",
              "      <th>18</th>\n",
              "      <td>4.75</td>\n",
              "      <td>99.149539</td>\n",
              "      <td>0.106589</td>\n",
              "    </tr>\n",
              "    <tr>\n",
              "      <th>19</th>\n",
              "      <td>5.00</td>\n",
              "      <td>99.115590</td>\n",
              "      <td>0.106589</td>\n",
              "    </tr>\n",
              "  </tbody>\n",
              "</table>\n",
              "</div>"
            ],
            "text/plain": [
              "    Dates coupon (Years)  Propability (%)  Coupon - X (%)\n",
              "0                   0.25        99.987853        0.106589\n",
              "1                   0.50        99.975707        0.106589\n",
              "2                   0.75        99.963560        0.106589\n",
              "3                   1.00        99.951414        0.106589\n",
              "4                   1.25        99.917498        0.106589\n",
              "5                   1.50        99.883582        0.106589\n",
              "6                   1.75        99.849666        0.106589\n",
              "7                   2.00        99.815750        0.106589\n",
              "8                   2.25        99.706281        0.106589\n",
              "9                   2.50        99.596812        0.106589\n",
              "10                  2.75        99.487342        0.106589\n",
              "11                  3.00        99.377873        0.106589\n",
              "12                  3.25        99.346252        0.106589\n",
              "13                  3.50        99.314631        0.106589\n",
              "14                  3.75        99.283009        0.106589\n",
              "15                  4.00        99.251388        0.106589\n",
              "16                  4.25        99.217439        0.106589\n",
              "17                  4.50        99.183489        0.106589\n",
              "18                  4.75        99.149539        0.106589\n",
              "19                  5.00        99.115590        0.106589"
            ]
          },
          "metadata": {
            "tags": []
          },
          "execution_count": 9
        }
      ]
    },
    {
      "cell_type": "code",
      "metadata": {
        "colab": {
          "base_uri": "https://localhost:8080/"
        },
        "id": "EgWkp9dmG-sO",
        "outputId": "4f9975c1-6367-4fcd-ef78-ad5a45c9b102"
      },
      "source": [
        "sur_prop_5y_tmp = np.concatenate([[1], sur_prop_5y])[:20]\n",
        "def_prop_5y = sur_prop_5y_tmp - sur_prop_5y\n",
        "print(def_prop_5y*100)"
      ],
      "execution_count": null,
      "outputs": [
        {
          "output_type": "stream",
          "text": [
            "[0.01214662 0.01214662 0.01214662 0.01214662 0.03391587 0.03391587\n",
            " 0.03391587 0.03391587 0.10946927 0.10946927 0.10946927 0.10946927\n",
            " 0.03162121 0.03162121 0.03162121 0.03162121 0.03394961 0.03394961\n",
            " 0.03394961 0.03394961]\n"
          ],
          "name": "stdout"
        }
      ]
    },
    {
      "cell_type": "code",
      "metadata": {
        "id": "XRHtciVs0wUv"
      },
      "source": [
        "seller = {'Dates coupon (Years)': [0.25, 0.5, 0.75, 1, 1.25, 1.5, 1.75, 2, 2.25, 2.5, 2.75, 3, 3.25, 3.5, 3.75, 4, 4.25, 4.5, 4.75, 5],\n",
        "         'Propability (%)': def_prop_5y*100,\n",
        "         'Pay (1 - R) (%)': (1 - Rec_rate)*100}\n",
        "df_seller = pd.DataFrame(seller)"
      ],
      "execution_count": null,
      "outputs": []
    },
    {
      "cell_type": "markdown",
      "metadata": {
        "id": "gm-uHHm1LYpT"
      },
      "source": [
        "## Таблица платежей и вероятностей для продавца страховки (табл. 2)"
      ]
    },
    {
      "cell_type": "code",
      "metadata": {
        "colab": {
          "base_uri": "https://localhost:8080/",
          "height": 669
        },
        "id": "_w_rW7hUGVXN",
        "outputId": "79c66e88-04d2-4345-b110-d80c79d9675a"
      },
      "source": [
        "df_seller"
      ],
      "execution_count": null,
      "outputs": [
        {
          "output_type": "execute_result",
          "data": {
            "text/html": [
              "<div>\n",
              "<style scoped>\n",
              "    .dataframe tbody tr th:only-of-type {\n",
              "        vertical-align: middle;\n",
              "    }\n",
              "\n",
              "    .dataframe tbody tr th {\n",
              "        vertical-align: top;\n",
              "    }\n",
              "\n",
              "    .dataframe thead th {\n",
              "        text-align: right;\n",
              "    }\n",
              "</style>\n",
              "<table border=\"1\" class=\"dataframe\">\n",
              "  <thead>\n",
              "    <tr style=\"text-align: right;\">\n",
              "      <th></th>\n",
              "      <th>Dates coupon (Years)</th>\n",
              "      <th>Propability (%)</th>\n",
              "      <th>Pay (1 - R) (%)</th>\n",
              "    </tr>\n",
              "  </thead>\n",
              "  <tbody>\n",
              "    <tr>\n",
              "      <th>0</th>\n",
              "      <td>0.25</td>\n",
              "      <td>0.012147</td>\n",
              "      <td>60.0</td>\n",
              "    </tr>\n",
              "    <tr>\n",
              "      <th>1</th>\n",
              "      <td>0.50</td>\n",
              "      <td>0.012147</td>\n",
              "      <td>60.0</td>\n",
              "    </tr>\n",
              "    <tr>\n",
              "      <th>2</th>\n",
              "      <td>0.75</td>\n",
              "      <td>0.012147</td>\n",
              "      <td>60.0</td>\n",
              "    </tr>\n",
              "    <tr>\n",
              "      <th>3</th>\n",
              "      <td>1.00</td>\n",
              "      <td>0.012147</td>\n",
              "      <td>60.0</td>\n",
              "    </tr>\n",
              "    <tr>\n",
              "      <th>4</th>\n",
              "      <td>1.25</td>\n",
              "      <td>0.033916</td>\n",
              "      <td>60.0</td>\n",
              "    </tr>\n",
              "    <tr>\n",
              "      <th>5</th>\n",
              "      <td>1.50</td>\n",
              "      <td>0.033916</td>\n",
              "      <td>60.0</td>\n",
              "    </tr>\n",
              "    <tr>\n",
              "      <th>6</th>\n",
              "      <td>1.75</td>\n",
              "      <td>0.033916</td>\n",
              "      <td>60.0</td>\n",
              "    </tr>\n",
              "    <tr>\n",
              "      <th>7</th>\n",
              "      <td>2.00</td>\n",
              "      <td>0.033916</td>\n",
              "      <td>60.0</td>\n",
              "    </tr>\n",
              "    <tr>\n",
              "      <th>8</th>\n",
              "      <td>2.25</td>\n",
              "      <td>0.109469</td>\n",
              "      <td>60.0</td>\n",
              "    </tr>\n",
              "    <tr>\n",
              "      <th>9</th>\n",
              "      <td>2.50</td>\n",
              "      <td>0.109469</td>\n",
              "      <td>60.0</td>\n",
              "    </tr>\n",
              "    <tr>\n",
              "      <th>10</th>\n",
              "      <td>2.75</td>\n",
              "      <td>0.109469</td>\n",
              "      <td>60.0</td>\n",
              "    </tr>\n",
              "    <tr>\n",
              "      <th>11</th>\n",
              "      <td>3.00</td>\n",
              "      <td>0.109469</td>\n",
              "      <td>60.0</td>\n",
              "    </tr>\n",
              "    <tr>\n",
              "      <th>12</th>\n",
              "      <td>3.25</td>\n",
              "      <td>0.031621</td>\n",
              "      <td>60.0</td>\n",
              "    </tr>\n",
              "    <tr>\n",
              "      <th>13</th>\n",
              "      <td>3.50</td>\n",
              "      <td>0.031621</td>\n",
              "      <td>60.0</td>\n",
              "    </tr>\n",
              "    <tr>\n",
              "      <th>14</th>\n",
              "      <td>3.75</td>\n",
              "      <td>0.031621</td>\n",
              "      <td>60.0</td>\n",
              "    </tr>\n",
              "    <tr>\n",
              "      <th>15</th>\n",
              "      <td>4.00</td>\n",
              "      <td>0.031621</td>\n",
              "      <td>60.0</td>\n",
              "    </tr>\n",
              "    <tr>\n",
              "      <th>16</th>\n",
              "      <td>4.25</td>\n",
              "      <td>0.033950</td>\n",
              "      <td>60.0</td>\n",
              "    </tr>\n",
              "    <tr>\n",
              "      <th>17</th>\n",
              "      <td>4.50</td>\n",
              "      <td>0.033950</td>\n",
              "      <td>60.0</td>\n",
              "    </tr>\n",
              "    <tr>\n",
              "      <th>18</th>\n",
              "      <td>4.75</td>\n",
              "      <td>0.033950</td>\n",
              "      <td>60.0</td>\n",
              "    </tr>\n",
              "    <tr>\n",
              "      <th>19</th>\n",
              "      <td>5.00</td>\n",
              "      <td>0.033950</td>\n",
              "      <td>60.0</td>\n",
              "    </tr>\n",
              "  </tbody>\n",
              "</table>\n",
              "</div>"
            ],
            "text/plain": [
              "    Dates coupon (Years)  Propability (%)  Pay (1 - R) (%)\n",
              "0                   0.25         0.012147             60.0\n",
              "1                   0.50         0.012147             60.0\n",
              "2                   0.75         0.012147             60.0\n",
              "3                   1.00         0.012147             60.0\n",
              "4                   1.25         0.033916             60.0\n",
              "5                   1.50         0.033916             60.0\n",
              "6                   1.75         0.033916             60.0\n",
              "7                   2.00         0.033916             60.0\n",
              "8                   2.25         0.109469             60.0\n",
              "9                   2.50         0.109469             60.0\n",
              "10                  2.75         0.109469             60.0\n",
              "11                  3.00         0.109469             60.0\n",
              "12                  3.25         0.031621             60.0\n",
              "13                  3.50         0.031621             60.0\n",
              "14                  3.75         0.031621             60.0\n",
              "15                  4.00         0.031621             60.0\n",
              "16                  4.25         0.033950             60.0\n",
              "17                  4.50         0.033950             60.0\n",
              "18                  4.75         0.033950             60.0\n",
              "19                  5.00         0.033950             60.0"
            ]
          },
          "metadata": {
            "tags": []
          },
          "execution_count": 12
        }
      ]
    },
    {
      "cell_type": "markdown",
      "metadata": {
        "id": "tXS970MjK37Z"
      },
      "source": [
        "## Какова вероятность каждого из этих платежей в терминах функции S(t)?\n",
        "\n",
        "Данные приведе в табл. 1\n",
        "\n",
        "## Какова вероятность этого события в терминах S(t)?\n",
        "\n",
        "Данные приведе в табл. 2\n",
        "\n",
        "##При каком значении купона x матожидание платежей покупателя равно матожиданию платежа продавца?\n",
        "\n",
        "При X = 0.106589 %\n",
        "\n",
        "Значение выплаты по такой страховки возможно, т. к. вероятность дефолта облигаций не считается высокой( их доходность - yield curve не так сильно отличается от государственных бондов Германии). Поэтому цена - РАЗУМНА.\n",
        "\n",
        "\n",
        "## Что должно произойти со стоимостью страховки, если мы будем увеличивать Recovery Rate?\n",
        "\n"
      ]
    },
    {
      "cell_type": "code",
      "metadata": {
        "id": "NABIL3yDL95v"
      },
      "source": [
        "Rec_rate_i = np.arange(0.1, 1, 1e-2)\n",
        "X_coupon = []\n",
        "for i in Rec_rate_i:\n",
        "  X_coupon += [(4 * (1 - i)*(1 - Sur_5y) / sur_prop_5y.sum()) * 100]"
      ],
      "execution_count": null,
      "outputs": []
    },
    {
      "cell_type": "code",
      "metadata": {
        "colab": {
          "base_uri": "https://localhost:8080/",
          "height": 296
        },
        "id": "aC8OfoW1Rnt-",
        "outputId": "66f3a903-8904-408f-e812-78e9347be3e6"
      },
      "source": [
        "plt.xlabel(\"Recovery rate %\")\n",
        "plt.ylabel(\"X coupon %\")\n",
        "plt.plot(Rec_rate_i, X_coupon)"
      ],
      "execution_count": null,
      "outputs": [
        {
          "output_type": "execute_result",
          "data": {
            "text/plain": [
              "[<matplotlib.lines.Line2D at 0x7f7800133850>]"
            ]
          },
          "metadata": {
            "tags": []
          },
          "execution_count": 14
        },
        {
          "output_type": "display_data",
          "data": {
            "image/png": "[encoded data removed]",
            "text/plain": [
              "<Figure size 432x288 with 1 Axes>"
            ]
          },
          "metadata": {
            "tags": [],
            "needs_background": "light"
          }
        }
      ]
    },
    {
      "cell_type": "markdown",
      "metadata": {
        "id": "P8yMexX6Sa1F"
      },
      "source": [
        "Как видно из грфаика и из логических соображений при увеличении Recovery Rate - цена страховки уменьшается и при Rec_rate = 1, становится равной 0. Т. к. при таком Recovery Rate эмитент облигации самостоятельно погашает её номинал и продавцу страховки уже не надо ничего возвращать."
      ]
    },
    {
      "cell_type": "markdown",
      "metadata": {
        "id": "2x9vKdXITQSn"
      },
      "source": [
        "## Как цена свопа зависит от доходности рискованной облигации?\n",
        "##Если доходность рискованной облигации увеличивается, то риск дефолта уменьшается или растёт? \n",
        "##Как себя должна вести цена страховки — расти или уменьшаться?\n",
        "\n",
        "Для проверки сравним платежи страховки от банкротства облигаций, c увеличенной доходностью по каждому теннору(Относительно Испанской). Они имеют более высокую доходность, чем рассмотренные испанские. Прибавим для примера + 10 бп к доходности за каждый период.\n",
        "\n"
      ]
    },
    {
      "cell_type": "code",
      "metadata": {
        "id": "cAshPzvcS9pE"
      },
      "source": [
        "curve_tenors_risk = np.array([1.0, 2.0, 3.0, 4.0, 5.0, 6.0,  7.0, 8.0, 9.0, 10.0])\n",
        "curve_rates_risk = curve_rates_Spain + 1e-3"
      ],
      "execution_count": null,
      "outputs": []
    },
    {
      "cell_type": "code",
      "metadata": {
        "colab": {
          "base_uri": "https://localhost:8080/"
        },
        "id": "BUFLrT5FZS_r",
        "outputId": "a9b2b3de-fac9-415d-aa30-59017301258a"
      },
      "source": [
        "curve_rates_risk"
      ],
      "execution_count": null,
      "outputs": [
        {
          "output_type": "execute_result",
          "data": {
            "text/plain": [
              "array([-4.21e-03, -4.25e-03, -3.66e-03, -3.28e-03, -2.34e-03, -5.90e-04,\n",
              "        9.00e-05,  1.86e-03,  3.05e-03,  3.66e-03])"
            ]
          },
          "metadata": {
            "tags": []
          },
          "execution_count": 16
        }
      ]
    },
    {
      "cell_type": "code",
      "metadata": {
        "colab": {
          "base_uri": "https://localhost:8080/"
        },
        "id": "pU6AbR0MZUfw",
        "outputId": "d2282ebb-be09-435e-d3d5-81ebaa82e179"
      },
      "source": [
        "Default_Propability = (1 - np.power((1 + curve_rates_Germany),curve_tenors_Germany) / np.power((1 + curve_rates_risk), curve_tenors_risk)) / (1 - Rec_rate)\n",
        "Default_Propability = np.concatenate([[0], Default_Propability])\n",
        "Survival_Propability = 1 - Default_Propability \n",
        "print(\"Default Propability 1-10 Y :\", Default_Propability)\n",
        "print(\"Survival Propability 1-10 Y :\", Survival_Propability)"
      ],
      "execution_count": null,
      "outputs": [
        {
          "output_type": "stream",
          "text": [
            "Default Propability 1-10 Y : [0.         0.00215909 0.00518468 0.01121589 0.01413467 0.01713602\n",
            " 0.02989191 0.03342277 0.05585794 0.06682084 0.05818224]\n",
            "Survival Propability 1-10 Y : [1.         0.99784091 0.99481532 0.98878411 0.98586533 0.98286398\n",
            " 0.97010809 0.96657723 0.94414206 0.93317916 0.94181776]\n"
          ],
          "name": "stdout"
        }
      ]
    },
    {
      "cell_type": "code",
      "metadata": {
        "colab": {
          "base_uri": "https://localhost:8080/"
        },
        "id": "RgEHY4xiatIS",
        "outputId": "ef1e91fe-8390-4af5-e0fa-306563f83439"
      },
      "source": [
        "index = np.concatenate([[0], curve_tenors_Germany])\n",
        "Def_Prob = scipy.interpolate.interp1d(index, Default_Propability, kind = 'linear')\n",
        "Survival_Prop = scipy.interpolate.interp1d(index, 1 - Default_Propability, kind = 'linear')\n",
        "\n",
        "sur_prop_5y = Survival_Prop(np.array([0.25, 0.5, 0.75, 1, 1.25, 1.5, 1.75, 2, 2.25, 2.5, 2.75, 3, 3.25, 3.5, 3.75, 4, 4.25, 4.5, 4.75, 5]))\n",
        "Sur_5y = Survival_Prop(np.array([5]))\n",
        "X_risk = 4 * (1 - Rec_rate)*(1 - Sur_5y) / sur_prop_5y.sum()\n",
        "print('Величина купона X_risk % = ', X_risk * 100)"
      ],
      "execution_count": null,
      "outputs": [
        {
          "output_type": "stream",
          "text": [
            "Величина купона X_risk % =  [0.20743292]\n"
          ],
          "name": "stdout"
        }
      ]
    },
    {
      "cell_type": "code",
      "metadata": {
        "colab": {
          "base_uri": "https://localhost:8080/"
        },
        "id": "rP3NwpOEbUYo",
        "outputId": "716dd053-0db5-4d31-b92e-2e6745ffe07d"
      },
      "source": [
        "print('Величина купона X_Spain % = ', X*100)"
      ],
      "execution_count": null,
      "outputs": [
        {
          "output_type": "stream",
          "text": [
            "Величина купона X_Spain % =  [0.10658892]\n"
          ],
          "name": "stdout"
        }
      ]
    },
    {
      "cell_type": "markdown",
      "metadata": {
        "id": "c6z2tPQQbfKZ"
      },
      "source": [
        "Как не сложно заметить цена свопа УВЕЛИЧИВАЕТСЯ при увеличении доходности облигации. Т. е. наблюдается прямая зависимость цены страховки от цены облигации."
      ]
    }
  ]
}